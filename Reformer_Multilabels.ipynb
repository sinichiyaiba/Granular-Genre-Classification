{
 "cells": [
  {
   "cell_type": "markdown",
   "metadata": {},
   "source": [
    "<h3>1. Prepare Libraries</h3>"
   ]
  },
  {
   "cell_type": "code",
   "execution_count": 1,
   "metadata": {
    "execution": {
     "iopub.execute_input": "2024-12-04T10:01:21.011196Z",
     "iopub.status.busy": "2024-12-04T10:01:21.010328Z",
     "iopub.status.idle": "2024-12-04T10:01:22.359378Z",
     "shell.execute_reply": "2024-12-04T10:01:22.358448Z",
     "shell.execute_reply.started": "2024-12-04T10:01:21.011158Z"
    },
    "id": "esdrUrJBGlv2"
   },
   "outputs": [],
   "source": [
    "import re\n",
    "import pandas as pd\n",
    "import numpy as np\n",
    "\n",
    "import nltk\n",
    "from nltk.corpus import stopwords\n",
    "lemmatizer = nltk.wordnet.WordNetLemmatizer()\n",
    "\n",
    "def simplify_input(content):\n",
    "    content = re.sub(\"\\\\s\", \" \", content)\n",
    "    content = re.sub(\"\\\\d\", \"\", content)\n",
    "    content = re.sub(\"[;]\", \"\", content) # please comment this out if punctuation is important for our task.\n",
    "    content = content.lower().split()\n",
    "    return content\n",
    "\n",
    "def stemming(content):\n",
    "    le_content = str(\"\")\n",
    "    for string in content:\n",
    "        le_content += lemmatizer.lemmatize(string, pos=\"v\") + \" \"\n",
    "    le_2 = str(\"\")\n",
    "    for s in le_content.split():\n",
    "        le_2 += lemmatizer.lemmatize(s, pos='a') + \" \"\n",
    "    le_3 = str(\"\")\n",
    "    for s in le_2.split():\n",
    "        le_3 += lemmatizer.lemmatize(s, pos='n') + \" \"\n",
    "    return le_3"
   ]
  },
  {
   "cell_type": "code",
   "execution_count": 2,
   "metadata": {
    "execution": {
     "iopub.execute_input": "2024-12-04T10:01:22.361596Z",
     "iopub.status.busy": "2024-12-04T10:01:22.361090Z",
     "iopub.status.idle": "2024-12-04T10:01:22.872950Z",
     "shell.execute_reply": "2024-12-04T10:01:22.872157Z",
     "shell.execute_reply.started": "2024-12-04T10:01:22.361558Z"
    }
   },
   "outputs": [
    {
     "name": "stdout",
     "output_type": "stream",
     "text": [
      "[nltk_data] Downloading package wordnet to /kaggle/working/...\n",
      "Archive:  /kaggle/working/corpora/wordnet.zip\n",
      "   creating: /kaggle/working/corpora/wordnet/\n",
      "  inflating: /kaggle/working/corpora/wordnet/lexnames  \n",
      "  inflating: /kaggle/working/corpora/wordnet/data.verb  \n",
      "  inflating: /kaggle/working/corpora/wordnet/index.adv  \n",
      "  inflating: /kaggle/working/corpora/wordnet/adv.exc  \n",
      "  inflating: /kaggle/working/corpora/wordnet/index.verb  \n",
      "  inflating: /kaggle/working/corpora/wordnet/cntlist.rev  \n",
      "  inflating: /kaggle/working/corpora/wordnet/data.adj  \n",
      "  inflating: /kaggle/working/corpora/wordnet/index.adj  \n",
      "  inflating: /kaggle/working/corpora/wordnet/LICENSE  \n",
      "  inflating: /kaggle/working/corpora/wordnet/citation.bib  \n",
      "  inflating: /kaggle/working/corpora/wordnet/noun.exc  \n",
      "  inflating: /kaggle/working/corpora/wordnet/verb.exc  \n",
      "  inflating: /kaggle/working/corpora/wordnet/README  \n",
      "  inflating: /kaggle/working/corpora/wordnet/index.sense  \n",
      "  inflating: /kaggle/working/corpora/wordnet/data.noun  \n",
      "  inflating: /kaggle/working/corpora/wordnet/data.adv  \n",
      "  inflating: /kaggle/working/corpora/wordnet/index.noun  \n",
      "  inflating: /kaggle/working/corpora/wordnet/adj.exc  \n"
     ]
    }
   ],
   "source": [
    "import nltk\n",
    "import subprocess\n",
    "\n",
    "# Download and unzip wordnet\n",
    "try:\n",
    "    nltk.data.find('wordnet.zip')\n",
    "except:\n",
    "    nltk.download('wordnet', download_dir='/kaggle/working/')\n",
    "    command = \"unzip /kaggle/working/corpora/wordnet.zip -d /kaggle/working/corpora\"\n",
    "    subprocess.run(command.split())\n",
    "    nltk.data.path.append('/kaggle/working/')\n",
    "\n",
    "# nltk.download('wordnet')"
   ]
  },
  {
   "cell_type": "markdown",
   "metadata": {},
   "source": [
    "### "
   ]
  },
  {
   "cell_type": "markdown",
   "metadata": {},
   "source": [
    "<h3>2. Loading dataset and Lemmatization</h3>"
   ]
  },
  {
   "cell_type": "code",
   "execution_count": 3,
   "metadata": {
    "_kg_hide-output": false,
    "colab": {
     "base_uri": "https://localhost:8080/"
    },
    "execution": {
     "iopub.execute_input": "2024-12-04T10:01:22.874182Z",
     "iopub.status.busy": "2024-12-04T10:01:22.873914Z",
     "iopub.status.idle": "2024-12-04T10:04:25.688886Z",
     "shell.execute_reply": "2024-12-04T10:04:25.688138Z",
     "shell.execute_reply.started": "2024-12-04T10:01:22.874157Z"
    },
    "id": "3fAIVPs5Glv2",
    "outputId": "0f98754c-712f-458f-c1df-c90825e2d218"
   },
   "outputs": [],
   "source": [
    "# nltk.download('wordnet')\n",
    "\n",
    "source_location = \"/kaggle/input/ao3-v5-8k-multigenres/\"\n",
    "data = pd.read_csv(source_location + 'AO3EntireWork_v5_Word8k_MultiGenres.csv', index_col = False)\n",
    "\n",
    "# data = pd.read_csv(\"../../ScrapingAOW/AO3EntireWork_v5_Word8k_MultiGenres.csv\", index_col = False)\n",
    "\n",
    "# data = data.sample(n=3000, random_state=42)\n",
    "data['simplified_input'] = data['content'].map(lambda x: simplify_input(x))\n",
    "data['simplified_input'] = data['simplified_input'].map(lambda x: stemming(x))"
   ]
  },
  {
   "cell_type": "code",
   "execution_count": 4,
   "metadata": {
    "execution": {
     "iopub.execute_input": "2024-12-04T10:04:25.691734Z",
     "iopub.status.busy": "2024-12-04T10:04:25.691266Z",
     "iopub.status.idle": "2024-12-04T10:04:25.695655Z",
     "shell.execute_reply": "2024-12-04T10:04:25.694805Z",
     "shell.execute_reply.started": "2024-12-04T10:04:25.691694Z"
    },
    "id": "X6XhK96ZGlv3"
   },
   "outputs": [],
   "source": [
    "data_backup = data"
   ]
  },
  {
   "cell_type": "code",
   "execution_count": null,
   "metadata": {
    "id": "yWYWCfixGlv3"
   },
   "outputs": [],
   "source": []
  },
  {
   "cell_type": "code",
   "execution_count": 5,
   "metadata": {
    "execution": {
     "iopub.execute_input": "2024-12-04T10:04:25.696784Z",
     "iopub.status.busy": "2024-12-04T10:04:25.696566Z",
     "iopub.status.idle": "2024-12-04T10:04:40.638225Z",
     "shell.execute_reply": "2024-12-04T10:04:40.637329Z",
     "shell.execute_reply.started": "2024-12-04T10:04:25.696746Z"
    },
    "id": "NZ2r_o9AGlv3"
   },
   "outputs": [],
   "source": [
    "#Import libraries\n",
    "import numpy as np\n",
    "import torch\n",
    "from transformers import AutoTokenizer, AutoModelForSequenceClassification, ReformerForSequenceClassification\n",
    "from sklearn.metrics import classification_report\n",
    "from torch.utils.data import DataLoader, TensorDataset, RandomSampler, SequentialSampler\n",
    "from sklearn.preprocessing import MultiLabelBinarizer\n",
    "from torch.optim.lr_scheduler import ReduceLROnPlateau"
   ]
  },
  {
   "cell_type": "code",
   "execution_count": 6,
   "metadata": {
    "execution": {
     "iopub.execute_input": "2024-12-04T10:04:40.639729Z",
     "iopub.status.busy": "2024-12-04T10:04:40.639200Z",
     "iopub.status.idle": "2024-12-04T10:04:40.976680Z",
     "shell.execute_reply": "2024-12-04T10:04:40.975558Z",
     "shell.execute_reply.started": "2024-12-04T10:04:40.639700Z"
    },
    "id": "K1JMV1dMGlv3"
   },
   "outputs": [],
   "source": [
    "from sklearn.preprocessing import MultiLabelBinarizer\n",
    "\n",
    "# Preprocessing: Split genres into lists for multi-label encoding\n",
    "data['genres_list'] = data['genres'].apply(lambda x: x.split(','))\n",
    "\n",
    "# Multi-Label Binarization\n",
    "mlb = MultiLabelBinarizer()\n",
    "encoded_labels = mlb.fit_transform(data['genres_list'])"
   ]
  },
  {
   "cell_type": "code",
   "execution_count": 7,
   "metadata": {
    "colab": {
     "base_uri": "https://localhost:8080/"
    },
    "execution": {
     "iopub.execute_input": "2024-12-04T10:04:40.978015Z",
     "iopub.status.busy": "2024-12-04T10:04:40.977743Z",
     "iopub.status.idle": "2024-12-04T10:04:41.001177Z",
     "shell.execute_reply": "2024-12-04T10:04:41.000264Z",
     "shell.execute_reply.started": "2024-12-04T10:04:40.977987Z"
    },
    "id": "UiuqzKwQGlv3",
    "outputId": "248c136b-5770-4d6d-e81f-97c40c3e10c0"
   },
   "outputs": [
    {
     "data": {
      "text/plain": [
       "5803"
      ]
     },
     "execution_count": 7,
     "metadata": {},
     "output_type": "execute_result"
    }
   ],
   "source": [
    "len(data)"
   ]
  },
  {
   "cell_type": "code",
   "execution_count": 8,
   "metadata": {
    "execution": {
     "iopub.execute_input": "2024-12-04T10:04:41.002612Z",
     "iopub.status.busy": "2024-12-04T10:04:41.002286Z",
     "iopub.status.idle": "2024-12-04T10:04:41.014087Z",
     "shell.execute_reply": "2024-12-04T10:04:41.013332Z",
     "shell.execute_reply.started": "2024-12-04T10:04:41.002578Z"
    },
    "id": "ec_gxen-Glv4"
   },
   "outputs": [],
   "source": [
    "from sklearn.model_selection import train_test_split\n",
    "\n",
    "train_texts, test_texts, train_labels, test_labels = train_test_split(data['simplified_input'], encoded_labels, test_size=0.2, random_state=42)"
   ]
  },
  {
   "cell_type": "code",
   "execution_count": 9,
   "metadata": {
    "execution": {
     "iopub.execute_input": "2024-12-04T10:04:41.015344Z",
     "iopub.status.busy": "2024-12-04T10:04:41.015073Z",
     "iopub.status.idle": "2024-12-04T10:04:41.023109Z",
     "shell.execute_reply": "2024-12-04T10:04:41.022391Z",
     "shell.execute_reply.started": "2024-12-04T10:04:41.015318Z"
    }
   },
   "outputs": [],
   "source": [
    "import torch\n",
    "from transformers import AutoTokenizer, ReformerForSequenceClassification, AutoModelForSequenceClassification\n",
    "\n",
    "# tokenizer = AutoTokenizer.from_pretrained(\"google/reformer-crime-and-punishment\")\n",
    "# max_length = 8192\n",
    "# tokenizer = AutoTokenizer.from_pretrained('google/reformer-crime-and-punishment')\n",
    "\n",
    "# if tokenizer.pad_token is None:\n",
    "#     tokenizer.add_special_tokens({'pad_token': '[PAD]'})\n",
    "    \n",
    "# test_encodings = tokenizer(\n",
    "#     test_texts.tolist(),\n",
    "#     truncation=True,\n",
    "#     padding='max_length',\n",
    "#     max_length=max_length,\n",
    "#     return_tensors='pt'\n",
    "# )"
   ]
  },
  {
   "cell_type": "markdown",
   "metadata": {},
   "source": [
    "<h3> 3. Tokenize the Text with Reformer model </h3>"
   ]
  },
  {
   "cell_type": "code",
   "execution_count": 10,
   "metadata": {
    "colab": {
     "base_uri": "https://localhost:8080/",
     "height": 269,
     "referenced_widgets": [
      "701af45fb97f42bd96b3e1930104f806",
      "2b2dd4249f3746738c8cf9f7de3780af",
      "b4d932bec694446e9f351b615315c1a7",
      "50d02953e2584d65938038ccda748f84",
      "5234bc10166b4dfeb7a566543cbfbe1c",
      "049931d96c404b51a94075c74187e6d9",
      "e179aaefd9564401948b9aafb950f8d6",
      "4a91d895ab604c97989420bf44b68f75",
      "c995edd1bc1e49de92af8c5347cb2215",
      "586634c2c0614737b7a2bef5314a5986",
      "f37131cc30c14e0e82980a8ec138b5dc",
      "abd334cdaa504840aa9557a1634f99da",
      "6ebae213de5044de9a06381f049f8416",
      "0c64b7fef3814b2d957ed38b8d13e23a",
      "bbcb33efccb5446184a663319d31fefc",
      "d91c2ac39ff241d68ec56a17ae7189c7",
      "a2a389899c4643f99e41bf35c69f842c",
      "5d48fcf4044c4897a1e15d3b7e9a2b37",
      "42cb2d126f634c5189d8a04dab87b3dd",
      "da193ceef371454c94337c9ed425a0b0",
      "7b0f1a8c5d88499c90fdce6c1dafdb93",
      "7fa6a925e1fd4b0383a46fabe15fb18b",
      "ec8b4c0255f048f685e8c74c3a846565",
      "2e051a700d8349e081a6cc5a2f3a1d28",
      "1d6632b747d64cc498278bb98e1d625e",
      "3913073c790c4afd8541dca331ddcd51",
      "927332e703aa47ed9c05d61a6cf0e36f",
      "0eaa605aae8d482bbf6e7ad8d89adaa1",
      "a3b42588e9424dae987de271f3ba94d8",
      "242f172d69854d9a990ad900f6e3f972",
      "a4a44173de9d4dcc9070e2ef693fc3e9",
      "be42ff7aeb804b65bface32668684e7c",
      "2cfd721d9290446093041ae70c51d5d7",
      "43014d3b169440658a0a3d832baaef8d",
      "c4b35f0211884ffa8957ce4182befc80",
      "d89749d6248e4eec875debad7b198e00",
      "84cb9451cf2a4bbb9d6c49141d0ebfa0",
      "12a098561c864b269c7af39e93c435ae",
      "558dc27f6ce54492bdeabd11ded61909",
      "b96b69769edb415dbba263da3e389c61",
      "e25ed18dceef4ca59ae0c6ff4e60351c",
      "fd664a3a2de2457bae0225817b079213",
      "7c66ca5eec234d8f810a2120f8b44c7b",
      "7426384e026344ceb059b5563ddc2e8b"
     ]
    },
    "execution": {
     "iopub.execute_input": "2024-12-04T10:04:41.025450Z",
     "iopub.status.busy": "2024-12-04T10:04:41.025196Z",
     "iopub.status.idle": "2024-12-04T10:05:23.653827Z",
     "shell.execute_reply": "2024-12-04T10:05:23.652838Z",
     "shell.execute_reply.started": "2024-12-04T10:04:41.025426Z"
    },
    "id": "x3jWdwpXGlv4",
    "outputId": "bdc76cf0-0b8d-4294-9fbe-795985f796b6"
   },
   "outputs": [
    {
     "data": {
      "application/vnd.jupyter.widget-view+json": {
       "model_id": "be7622d452a140efb6d8f529073c52ac",
       "version_major": 2,
       "version_minor": 0
      },
      "text/plain": [
       "tokenizer_config.json:   0%|          | 0.00/28.0 [00:00<?, ?B/s]"
      ]
     },
     "metadata": {},
     "output_type": "display_data"
    },
    {
     "data": {
      "application/vnd.jupyter.widget-view+json": {
       "model_id": "adebbbca9fa540338e8da5518f4c4092",
       "version_major": 2,
       "version_minor": 0
      },
      "text/plain": [
       "config.json:   0%|          | 0.00/1.15k [00:00<?, ?B/s]"
      ]
     },
     "metadata": {},
     "output_type": "display_data"
    },
    {
     "data": {
      "application/vnd.jupyter.widget-view+json": {
       "model_id": "fa6da31972eb4f089427525858636493",
       "version_major": 2,
       "version_minor": 0
      },
      "text/plain": [
       "spiece.model:   0%|          | 0.00/242k [00:00<?, ?B/s]"
      ]
     },
     "metadata": {},
     "output_type": "display_data"
    },
    {
     "data": {
      "application/vnd.jupyter.widget-view+json": {
       "model_id": "2a0be04c04744559b6d56823c2151d9c",
       "version_major": 2,
       "version_minor": 0
      },
      "text/plain": [
       "tokenizer.json:   0%|          | 0.00/323k [00:00<?, ?B/s]"
      ]
     },
     "metadata": {},
     "output_type": "display_data"
    }
   ],
   "source": [
    "# Tokenization\n",
    "tokenizer = AutoTokenizer.from_pretrained('google/reformer-crime-and-punishment')\n",
    "max_length = 8192 #524288\n",
    "\n",
    "if tokenizer.pad_token is None:\n",
    "    tokenizer.add_special_tokens({'pad_token': '[PAD]'})\n",
    "\n",
    "train_encodings = tokenizer(\n",
    "    train_texts.tolist(),\n",
    "    padding='max_length', \n",
    "    truncation=True,\n",
    "    max_length = max_length,\n",
    "    return_tensors='pt'\n",
    ")\n",
    "test_encodings = tokenizer(\n",
    "    test_texts.tolist(),\n",
    "    padding='max_length', \n",
    "    truncation=True,\n",
    "    max_length = max_length,\n",
    "    return_tensors='pt'\n",
    ")\n",
    "\n",
    "# Convert labels to PyTorch tensors\n",
    "train_labels = torch.tensor(train_labels, dtype=torch.float32)\n",
    "test_labels = torch.tensor(test_labels, dtype=torch.float32)"
   ]
  },
  {
   "cell_type": "code",
   "execution_count": 11,
   "metadata": {
    "colab": {
     "base_uri": "https://localhost:8080/"
    },
    "execution": {
     "iopub.execute_input": "2024-12-04T10:05:23.655908Z",
     "iopub.status.busy": "2024-12-04T10:05:23.655140Z",
     "iopub.status.idle": "2024-12-04T10:05:23.703375Z",
     "shell.execute_reply": "2024-12-04T10:05:23.702625Z",
     "shell.execute_reply.started": "2024-12-04T10:05:23.655859Z"
    },
    "id": "hU_4OmokGlv4",
    "outputId": "7a439af7-90f3-483f-c6e3-94d6741bc3e6"
   },
   "outputs": [
    {
     "data": {
      "text/plain": [
       "2"
      ]
     },
     "execution_count": 11,
     "metadata": {},
     "output_type": "execute_result"
    }
   ],
   "source": [
    "torch.cuda.device_count()"
   ]
  },
  {
   "cell_type": "code",
   "execution_count": 12,
   "metadata": {
    "colab": {
     "base_uri": "https://localhost:8080/"
    },
    "execution": {
     "iopub.execute_input": "2024-12-04T10:05:23.704618Z",
     "iopub.status.busy": "2024-12-04T10:05:23.704322Z",
     "iopub.status.idle": "2024-12-04T10:05:24.034619Z",
     "shell.execute_reply": "2024-12-04T10:05:24.033541Z",
     "shell.execute_reply.started": "2024-12-04T10:05:23.704587Z"
    },
    "id": "C2pg6NpBGlv4",
    "outputId": "1cca1cfb-49cc-4ddf-dc43-82e1de58ec83"
   },
   "outputs": [
    {
     "data": {
      "text/plain": [
       "12"
      ]
     },
     "execution_count": 12,
     "metadata": {},
     "output_type": "execute_result"
    }
   ],
   "source": [
    "import gc\n",
    "gc.collect()"
   ]
  },
  {
   "cell_type": "code",
   "execution_count": 13,
   "metadata": {
    "colab": {
     "base_uri": "https://localhost:8080/",
     "height": 104,
     "referenced_widgets": [
      "a55affaacbea4ab18d5155213f5c127b",
      "1d4b6c2d9ddc4b6ca439d9481837c3e4",
      "90ff13460dfd4abcbfc5d9b4b85d78b5",
      "d1b9e863103a44f295ac64e67b9dee3d",
      "b1be20027af04355b077cdb95730917c",
      "7d729f1f5600489ea5bbc84b111e4b19",
      "f6eb4646c2d44ff6b49d02d84a40d1a6",
      "6cccffe0dbe2477f813c6f5937d35069",
      "bc56c300fbe7477293d3fa7a96441d12",
      "4ecee5e54923420e97f9f7656fefa658",
      "0531dd9df75949d5bc94f764abd3303a"
     ]
    },
    "execution": {
     "iopub.execute_input": "2024-12-04T10:05:24.036156Z",
     "iopub.status.busy": "2024-12-04T10:05:24.035878Z",
     "iopub.status.idle": "2024-12-04T10:05:26.334220Z",
     "shell.execute_reply": "2024-12-04T10:05:26.333519Z",
     "shell.execute_reply.started": "2024-12-04T10:05:24.036130Z"
    },
    "id": "fNqM4ERzGlv4",
    "outputId": "8c0d03a4-6462-45bf-de33-c755b2b1faee"
   },
   "outputs": [
    {
     "data": {
      "application/vnd.jupyter.widget-view+json": {
       "model_id": "224b4e6484e84d5d867ce4817ab9b99f",
       "version_major": 2,
       "version_minor": 0
      },
      "text/plain": [
       "pytorch_model.bin:   0%|          | 0.00/11.0M [00:00<?, ?B/s]"
      ]
     },
     "metadata": {},
     "output_type": "display_data"
    },
    {
     "name": "stderr",
     "output_type": "stream",
     "text": [
      "You might want to disable causal masking for sequence classification\n",
      "Some weights of ReformerForSequenceClassification were not initialized from the model checkpoint at google/reformer-crime-and-punishment and are newly initialized: ['classifier.dense.bias', 'classifier.dense.weight', 'classifier.out_proj.bias', 'classifier.out_proj.weight', 'reformer.embeddings.position_embeddings.embedding.weight']\n",
      "You should probably TRAIN this model on a down-stream task to be able to use it for predictions and inference.\n"
     ]
    }
   ],
   "source": [
    "\n",
    "from torch.optim import AdamW\n",
    "# Load the model\n",
    "num_labels = len(mlb.classes_)\n",
    "device = torch.device('cuda' if torch.cuda.is_available() else 'cpu')\n",
    "\n",
    "from transformers import ReformerConfig, ReformerModel\n",
    "conf = ReformerConfig.from_pretrained('google/reformer-crime-and-punishment', num_labels=num_labels)\n",
    "conf.axial_pos_embds = False \n",
    "\n",
    "# model = AutoModelForSequenceClassification.from_pretrained('google/reformer-crime-and-punishment', num_labels=num_labels)\n",
    "model = ReformerForSequenceClassification.from_pretrained(\"google/reformer-crime-and-punishment\", config=conf)\n",
    "model = model.to(device)\n",
    "\n",
    "# Optimizer and Scheduler\n",
    "optimizer = AdamW(model.parameters(), lr=2e-5)\n",
    "scheduler = ReduceLROnPlateau(optimizer, mode='min', factor=0.5, patience=2, verbose=True)\n",
    "criterion = torch.nn.BCEWithLogitsLoss()\n",
    "\n",
    "# Create DataLoader\n",
    "batch_size = 1\n",
    "train_dataset = TensorDataset(train_encodings['input_ids'], train_encodings['attention_mask'], train_labels)\n",
    "test_dataset = TensorDataset(test_encodings['input_ids'], test_encodings['attention_mask'], test_labels)\n",
    "\n",
    "train_dataloader = DataLoader(train_dataset, sampler=RandomSampler(train_dataset), batch_size=batch_size)\n",
    "test_dataloader = DataLoader(test_dataset, sampler=SequentialSampler(test_dataset), batch_size=batch_size)"
   ]
  },
  {
   "cell_type": "code",
   "execution_count": 14,
   "metadata": {
    "execution": {
     "iopub.execute_input": "2024-12-04T10:05:26.335356Z",
     "iopub.status.busy": "2024-12-04T10:05:26.335130Z",
     "iopub.status.idle": "2024-12-04T10:05:26.648756Z",
     "shell.execute_reply": "2024-12-04T10:05:26.647892Z",
     "shell.execute_reply.started": "2024-12-04T10:05:26.335335Z"
    }
   },
   "outputs": [
    {
     "name": "stderr",
     "output_type": "stream",
     "text": [
      "The new embeddings will be initialized from a multivariate normal distribution that has old embeddings' mean and covariance. As described in this article: https://nlp.stanford.edu/~johnhew/vocab-expansion.html. To disable this, use `mean_resizing=False`\n"
     ]
    },
    {
     "data": {
      "text/plain": [
       "Embedding(321, 256)"
      ]
     },
     "execution_count": 14,
     "metadata": {},
     "output_type": "execute_result"
    }
   ],
   "source": [
    "model.resize_token_embeddings(len(tokenizer))"
   ]
  },
  {
   "cell_type": "markdown",
   "metadata": {},
   "source": [
    "<h3>4. Model training & validation</h3>"
   ]
  },
  {
   "cell_type": "code",
   "execution_count": 15,
   "metadata": {
    "colab": {
     "base_uri": "https://localhost:8080/"
    },
    "execution": {
     "iopub.execute_input": "2024-12-04T10:05:26.650219Z",
     "iopub.status.busy": "2024-12-04T10:05:26.649956Z",
     "iopub.status.idle": "2024-12-04T11:51:40.408688Z",
     "shell.execute_reply": "2024-12-04T11:51:40.407759Z",
     "shell.execute_reply.started": "2024-12-04T10:05:26.650193Z"
    },
    "id": "85Gk2Bs0Glv5",
    "outputId": "6adbc769-7b4d-4bb2-e56f-d56b1d3d97ad"
   },
   "outputs": [
    {
     "name": "stdout",
     "output_type": "stream",
     "text": [
      "Epoch 1: Training Loss = 0.4920\n",
      "Epoch 1: Validation Loss = 0.4753, Perfect Prediction Accuracy = 0.0741, Hamming Loss = 0.2246, Partial Prediction Accuracy = 0.7754\n",
      "Validation loss improved. Saving model...\n",
      "Epoch 2: Training Loss = 0.4712\n",
      "Epoch 2: Validation Loss = 0.4750, Perfect Prediction Accuracy = 0.0767, Hamming Loss = 0.2295, Partial Prediction Accuracy = 0.7705\n",
      "Validation loss improved. Saving model...\n",
      "Epoch 3: Training Loss = 0.4698\n",
      "Epoch 3: Validation Loss = 0.4746, Perfect Prediction Accuracy = 0.0706, Hamming Loss = 0.2140, Partial Prediction Accuracy = 0.7860\n",
      "Validation loss improved. Saving model...\n",
      "Epoch 4: Training Loss = 0.4692\n",
      "Epoch 4: Validation Loss = 0.4743, Perfect Prediction Accuracy = 0.0810, Hamming Loss = 0.2264, Partial Prediction Accuracy = 0.7736\n",
      "Validation loss improved. Saving model...\n",
      "Epoch 5: Training Loss = 0.4685\n",
      "Epoch 5: Validation Loss = 0.4747, Perfect Prediction Accuracy = 0.0620, Hamming Loss = 0.2407, Partial Prediction Accuracy = 0.7593\n",
      "No improvement in validation loss for 1 epoch(s).\n",
      "Epoch 6: Training Loss = 0.4676\n",
      "Epoch 6: Validation Loss = 0.4745, Perfect Prediction Accuracy = 0.0689, Hamming Loss = 0.2191, Partial Prediction Accuracy = 0.7809\n",
      "No improvement in validation loss for 2 epoch(s).\n",
      "Epoch 7: Training Loss = 0.4675\n",
      "Epoch 7: Validation Loss = 0.4746, Perfect Prediction Accuracy = 0.0775, Hamming Loss = 0.2317, Partial Prediction Accuracy = 0.7683\n",
      "No improvement in validation loss for 3 epoch(s).\n",
      "Epoch 8: Training Loss = 0.4672\n",
      "Epoch 8: Validation Loss = 0.4760, Perfect Prediction Accuracy = 0.0655, Hamming Loss = 0.2288, Partial Prediction Accuracy = 0.7712\n",
      "No improvement in validation loss for 4 epoch(s).\n",
      "Epoch 9: Training Loss = 0.4669\n",
      "Epoch 9: Validation Loss = 0.4758, Perfect Prediction Accuracy = 0.0594, Hamming Loss = 0.2344, Partial Prediction Accuracy = 0.7656\n",
      "No improvement in validation loss for 5 epoch(s).\n",
      "Early stopping triggered at epoch 9.\n"
     ]
    }
   ],
   "source": [
    "import matplotlib.pyplot as plt\n",
    "from sklearn.metrics import accuracy_score, hamming_loss, classification_report\n",
    "\n",
    "# Initialize lists to store metrics\n",
    "training_losses = []\n",
    "validation_losses = []\n",
    "validation_accuracies = []\n",
    "hamming_losses = []\n",
    "label_based_accuracies = []\n",
    "best_model_epoch = -1\n",
    "best_model_loss = float('inf')\n",
    "best_model_accuracy = 0\n",
    "best_model_hamming = 0\n",
    "best_model_label_accuracy = 0\n",
    "best_model_validation_loss = 0\n",
    "\n",
    "# Parameters for early stopping and fine-tuning\n",
    "patience = 5  # Number of epochs to wait for improvement\n",
    "best_val_loss = float('inf')  # Best validation loss seen so far\n",
    "epochs_no_improve = 0  # Counter for epochs without improvement\n",
    "\n",
    "# Learning rate scheduler\n",
    "scheduler = ReduceLROnPlateau(optimizer, mode='min', factor=0.5, patience=2, verbose=True)\n",
    "\n",
    "# Training loop\n",
    "epochs = 15\n",
    "for epoch in range(epochs):\n",
    "    model.train()\n",
    "    total_loss = 0\n",
    "\n",
    "    # Training phase\n",
    "    for batch in train_dataloader:\n",
    "        b_input_ids, b_attention_mask, b_labels = (t.to(device) for t in batch)\n",
    "        optimizer.zero_grad()\n",
    "        outputs = model(b_input_ids, attention_mask=b_attention_mask)\n",
    "        loss = criterion(outputs.logits, b_labels)\n",
    "        loss.backward()\n",
    "        optimizer.step()\n",
    "\n",
    "        total_loss += loss.item()\n",
    "\n",
    "    avg_train_loss = total_loss / len(train_dataloader)\n",
    "    training_losses.append(avg_train_loss)\n",
    "    print(f\"Epoch {epoch + 1}: Training Loss = {avg_train_loss:.4f}\")\n",
    "\n",
    "    # Validation phase\n",
    "    model.eval()\n",
    "    val_loss = 0\n",
    "    all_preds, all_labels = [], []\n",
    "\n",
    "    with torch.no_grad():\n",
    "        for batch in test_dataloader:\n",
    "            b_input_ids, b_attention_mask, b_labels = (t.to(device) for t in batch)\n",
    "            outputs = model(b_input_ids, attention_mask=b_attention_mask)\n",
    "            loss = criterion(outputs.logits, b_labels)\n",
    "            val_loss += loss.item()\n",
    "\n",
    "            # Store predictions and true labels\n",
    "            preds = torch.sigmoid(outputs.logits).cpu().numpy()\n",
    "            preds = (preds > 0.3).astype(int)  # Apply threshold for multi-label classification\n",
    "            all_preds.extend(preds)\n",
    "            all_labels.extend(b_labels.cpu().numpy())\n",
    "\n",
    "    avg_val_loss = val_loss / len(test_dataloader)\n",
    "    validation_losses.append(avg_val_loss)\n",
    "\n",
    "    # Calculate metrics\n",
    "    val_accuracy = accuracy_score(all_labels, all_preds)\n",
    "    hamming = hamming_loss(all_labels, all_preds)\n",
    "\n",
    "    # Label-based accuracy\n",
    "    all_preds = np.array(all_preds)\n",
    "    all_labels = np.array(all_labels)\n",
    "    label_correct = (all_preds == all_labels).sum(axis=0)\n",
    "    label_total = all_labels.shape[0]\n",
    "    label_accuracy = label_correct / label_total\n",
    "    avg_label_accuracy = label_accuracy.mean()\n",
    "    label_based_accuracies.append(avg_label_accuracy)\n",
    "\n",
    "    validation_accuracies.append(val_accuracy)\n",
    "    hamming_losses.append(hamming)\n",
    "\n",
    "    print(f\"Epoch {epoch + 1}: Validation Loss = {avg_val_loss:.4f}, Perfect Prediction Accuracy = {val_accuracy:.4f}, \"\n",
    "          f\"Hamming Loss = {hamming:.4f}, Partial Prediction Accuracy = {avg_label_accuracy:.4f}\")\n",
    "\n",
    "    # Early stopping and learning rate adjustment\n",
    "    if avg_val_loss < best_val_loss:\n",
    "        best_val_loss = avg_val_loss\n",
    "        epochs_no_improve = 0\n",
    "        best_model_epoch = epoch + 1\n",
    "        best_model_accuracy = val_accuracy\n",
    "        best_model_hamming = hamming\n",
    "        best_model_label_accuracy = avg_label_accuracy\n",
    "        best_model_validation_loss = avg_val_loss\n",
    "        print(\"Validation loss improved. Saving model...\")\n",
    "        torch.save(model.state_dict(), \"best_model.pth\")\n",
    "    else:\n",
    "        epochs_no_improve += 1\n",
    "        print(f\"No improvement in validation loss for {epochs_no_improve} epoch(s).\")\n",
    "        scheduler.step(avg_val_loss)\n",
    "\n",
    "    if epochs_no_improve >= patience:\n",
    "        print(f\"Early stopping triggered at epoch {epoch + 1}.\")\n",
    "        break"
   ]
  },
  {
   "cell_type": "markdown",
   "metadata": {},
   "source": [
    "<b>Expectation:</b>\n",
    "1. Training and Validation Loss: Line graph comparing loss during training and validation.\n",
    "2. Validation Accuracy: Should show improvement in accuracy across epochs.\n",
    "3. Hamming Loss: Should decrease over epochs.\n",
    "4. Label-Based Accuracy: Should increase as the model learns"
   ]
  },
  {
   "cell_type": "markdown",
   "metadata": {},
   "source": [
    "<h3>5. Classification report & plot charts</h3>"
   ]
  },
  {
   "cell_type": "code",
   "execution_count": 16,
   "metadata": {
    "colab": {
     "base_uri": "https://localhost:8080/",
     "height": 760
    },
    "execution": {
     "iopub.execute_input": "2024-12-04T11:51:40.410077Z",
     "iopub.status.busy": "2024-12-04T11:51:40.409811Z",
     "iopub.status.idle": "2024-12-04T11:51:41.346854Z",
     "shell.execute_reply": "2024-12-04T11:51:41.345947Z",
     "shell.execute_reply.started": "2024-12-04T11:51:40.410052Z"
    },
    "id": "0G1tTM3zcZDm",
    "outputId": "33f8cf6d-063c-4af0-fa3b-b2a7387e76ab"
   },
   "outputs": [
    {
     "name": "stdout",
     "output_type": "stream",
     "text": [
      "\n",
      "Detailed Classification Report:\n",
      "              precision    recall  f1-score   support\n",
      "\n",
      "      Action       0.50      0.01      0.01       194\n",
      "   Adventure       0.00      0.00      0.00       179\n",
      "      Comedy       0.30      0.19      0.23       282\n",
      "       Crime       0.16      0.02      0.03       204\n",
      "     Fantasy       0.23      0.24      0.24       266\n",
      "      Horror       0.00      0.00      0.00       199\n",
      "     Mystery       0.38      0.10      0.16       152\n",
      "     Romance       0.41      1.00      0.58       479\n",
      "      Sci-Fi       0.00      0.00      0.00       187\n",
      " Superheroes       0.00      0.00      0.00       125\n",
      "\n",
      "   micro avg       0.37      0.27      0.31      2267\n",
      "   macro avg       0.20      0.15      0.13      2267\n",
      "weighted avg       0.23      0.27      0.19      2267\n",
      " samples avg       0.38      0.26      0.29      2267\n",
      "\n"
     ]
    },
    {
     "name": "stderr",
     "output_type": "stream",
     "text": [
      "/opt/conda/lib/python3.10/site-packages/sklearn/metrics/_classification.py:1344: UndefinedMetricWarning: Precision and F-score are ill-defined and being set to 0.0 in labels with no predicted samples. Use `zero_division` parameter to control this behavior.\n",
      "  _warn_prf(average, modifier, msg_start, len(result))\n"
     ]
    },
    {
     "data": {
      "image/png": "[encoded data removed]",
      "text/plain": [
       "<Figure size 1500x800 with 4 Axes>"
      ]
     },
     "metadata": {},
     "output_type": "display_data"
    }
   ],
   "source": [
    "# Detailed Classification Report\n",
    "print(\"\\nDetailed Classification Report:\")\n",
    "print(classification_report(all_labels, all_preds, target_names=mlb.classes_))\n",
    "\n",
    "# Plot Training and Validation Metrics\n",
    "plt.figure(figsize=(15, 8))\n",
    "\n",
    "# Training and Validation Loss\n",
    "plt.subplot(2, 2, 1)\n",
    "plt.plot(range(1, len(training_losses) + 1), training_losses, label='Training Loss')\n",
    "plt.plot(range(1, len(validation_losses) + 1), validation_losses, label='Validation Loss')\n",
    "plt.title('Training and Validation Loss')\n",
    "plt.xlabel('Epochs')\n",
    "plt.ylabel('Loss')\n",
    "plt.legend()\n",
    "\n",
    "# Validation Accuracy\n",
    "plt.subplot(2, 2, 2)\n",
    "plt.plot(range(1, len(validation_accuracies) + 1), validation_accuracies, label='Validation Accuracy')\n",
    "plt.title('Validation Accuracy')\n",
    "plt.xlabel('Epochs')\n",
    "plt.ylabel('Accuracy')\n",
    "plt.legend()\n",
    "\n",
    "# Hamming Loss\n",
    "plt.subplot(2, 2, 3)\n",
    "plt.plot(range(1, len(hamming_losses) + 1), hamming_losses, label='Hamming Loss')\n",
    "plt.title('Hamming Loss')\n",
    "plt.xlabel('Epochs')\n",
    "plt.ylabel('Hamming Loss')\n",
    "plt.legend()\n",
    "\n",
    "# Label-Based Accuracy\n",
    "plt.subplot(2, 2, 4)\n",
    "plt.plot(range(1, len(label_based_accuracies) + 1), label_based_accuracies, label='Label-Based Accuracy')\n",
    "plt.title('Label-Based Accuracy')\n",
    "plt.xlabel('Epochs')\n",
    "plt.ylabel('Label-Based Accuracy')\n",
    "plt.legend()\n",
    "\n",
    "plt.tight_layout()\n",
    "plt.show()"
   ]
  },
  {
   "cell_type": "markdown",
   "metadata": {},
   "source": [
    "<h3>--- Completed ---</h3>"
   ]
  },
  {
   "cell_type": "code",
   "execution_count": null,
   "metadata": {},
   "outputs": [],
   "source": []
  }
 ],
 "metadata": {
  "accelerator": "GPU",
  "colab": {
   "gpuType": "T4",
   "provenance": []
  },
  "kaggle": {
   "accelerator": "nvidiaTeslaT4",
   "dataSources": [
    {
     "datasetId": 6197562,
     "sourceId": 10057577,
     "sourceType": "datasetVersion"
    },
    {
     "datasetId": 6188093,
     "sourceId": 10044864,
     "sourceType": "datasetVersion"
    }
   ],
   "dockerImageVersionId": 30805,
   "isGpuEnabled": true,
   "isInternetEnabled": true,
   "language": "python",
   "sourceType": "notebook"
  },
  "kernelspec": {
   "display_name": "Python 3 (ipykernel)",
   "language": "python",
   "name": "python3"
  },
  "language_info": {
   "codemirror_mode": {
    "name": "ipython",
    "version": 3
   },
   "file_extension": ".py",
   "mimetype": "text/x-python",
   "name": "python",
   "nbconvert_exporter": "python",
   "pygments_lexer": "ipython3",
   "version": "3.11.7"
  },
  "widgets": {
   "application/vnd.jupyter.widget-state+json": {
    "049931d96c404b51a94075c74187e6d9": {
     "model_module": "@jupyter-widgets/base",
     "model_module_version": "1.2.0",
     "model_name": "LayoutModel",
     "state": {
      "_model_module": "@jupyter-widgets/base",
      "_model_module_version": "1.2.0",
      "_model_name": "LayoutModel",
      "_view_count": null,
      "_view_module": "@jupyter-widgets/base",
      "_view_module_version": "1.2.0",
      "_view_name": "LayoutView",
      "align_content": null,
      "align_items": null,
      "align_self": null,
      "border": null,
      "bottom": null,
      "display": null,
      "flex": null,
      "flex_flow": null,
      "grid_area": null,
      "grid_auto_columns": null,
      "grid_auto_flow": null,
      "grid_auto_rows": null,
      "grid_column": null,
      "grid_gap": null,
      "grid_row": null,
      "grid_template_areas": null,
      "grid_template_columns": null,
      "grid_template_rows": null,
      "height": null,
      "justify_content": null,
      "justify_items": null,
      "left": null,
      "margin": null,
      "max_height": null,
      "max_width": null,
      "min_height": null,
      "min_width": null,
      "object_fit": null,
      "object_position": null,
      "order": null,
      "overflow": null,
      "overflow_x": null,
      "overflow_y": null,
      "padding": null,
      "right": null,
      "top": null,
      "visibility": null,
      "width": null
     }
    },
    "0531dd9df75949d5bc94f764abd3303a": {
     "model_module": "@jupyter-widgets/controls",
     "model_module_version": "1.5.0",
     "model_name": "DescriptionStyleModel",
     "state": {
      "_model_module": "@jupyter-widgets/controls",
      "_model_module_version": "1.5.0",
      "_model_name": "DescriptionStyleModel",
      "_view_count": null,
      "_view_module": "@jupyter-widgets/base",
      "_view_module_version": "1.2.0",
      "_view_name": "StyleView",
      "description_width": ""
     }
    },
    "0c64b7fef3814b2d957ed38b8d13e23a": {
     "model_module": "@jupyter-widgets/controls",
     "model_module_version": "1.5.0",
     "model_name": "FloatProgressModel",
     "state": {
      "_dom_classes": [],
      "_model_module": "@jupyter-widgets/controls",
      "_model_module_version": "1.5.0",
      "_model_name": "FloatProgressModel",
      "_view_count": null,
      "_view_module": "@jupyter-widgets/controls",
      "_view_module_version": "1.5.0",
      "_view_name": "ProgressView",
      "bar_style": "success",
      "description": "",
      "description_tooltip": null,
      "layout": "IPY_MODEL_42cb2d126f634c5189d8a04dab87b3dd",
      "max": 898823,
      "min": 0,
      "orientation": "horizontal",
      "style": "IPY_MODEL_da193ceef371454c94337c9ed425a0b0",
      "value": 898823
     }
    },
    "0eaa605aae8d482bbf6e7ad8d89adaa1": {
     "model_module": "@jupyter-widgets/base",
     "model_module_version": "1.2.0",
     "model_name": "LayoutModel",
     "state": {
      "_model_module": "@jupyter-widgets/base",
      "_model_module_version": "1.2.0",
      "_model_name": "LayoutModel",
      "_view_count": null,
      "_view_module": "@jupyter-widgets/base",
      "_view_module_version": "1.2.0",
      "_view_name": "LayoutView",
      "align_content": null,
      "align_items": null,
      "align_self": null,
      "border": null,
      "bottom": null,
      "display": null,
      "flex": null,
      "flex_flow": null,
      "grid_area": null,
      "grid_auto_columns": null,
      "grid_auto_flow": null,
      "grid_auto_rows": null,
      "grid_column": null,
      "grid_gap": null,
      "grid_row": null,
      "grid_template_areas": null,
      "grid_template_columns": null,
      "grid_template_rows": null,
      "height": null,
      "justify_content": null,
      "justify_items": null,
      "left": null,
      "margin": null,
      "max_height": null,
      "max_width": null,
      "min_height": null,
      "min_width": null,
      "object_fit": null,
      "object_position": null,
      "order": null,
      "overflow": null,
      "overflow_x": null,
      "overflow_y": null,
      "padding": null,
      "right": null,
      "top": null,
      "visibility": null,
      "width": null
     }
    },
    "12a098561c864b269c7af39e93c435ae": {
     "model_module": "@jupyter-widgets/base",
     "model_module_version": "1.2.0",
     "model_name": "LayoutModel",
     "state": {
      "_model_module": "@jupyter-widgets/base",
      "_model_module_version": "1.2.0",
      "_model_name": "LayoutModel",
      "_view_count": null,
      "_view_module": "@jupyter-widgets/base",
      "_view_module_version": "1.2.0",
      "_view_name": "LayoutView",
      "align_content": null,
      "align_items": null,
      "align_self": null,
      "border": null,
      "bottom": null,
      "display": null,
      "flex": null,
      "flex_flow": null,
      "grid_area": null,
      "grid_auto_columns": null,
      "grid_auto_flow": null,
      "grid_auto_rows": null,
      "grid_column": null,
      "grid_gap": null,
      "grid_row": null,
      "grid_template_areas": null,
      "grid_template_columns": null,
      "grid_template_rows": null,
      "height": null,
      "justify_content": null,
      "justify_items": null,
      "left": null,
      "margin": null,
      "max_height": null,
      "max_width": null,
      "min_height": null,
      "min_width": null,
      "object_fit": null,
      "object_position": null,
      "order": null,
      "overflow": null,
      "overflow_x": null,
      "overflow_y": null,
      "padding": null,
      "right": null,
      "top": null,
      "visibility": null,
      "width": null
     }
    },
    "1d4b6c2d9ddc4b6ca439d9481837c3e4": {
     "model_module": "@jupyter-widgets/controls",
     "model_module_version": "1.5.0",
     "model_name": "HTMLModel",
     "state": {
      "_dom_classes": [],
      "_model_module": "@jupyter-widgets/controls",
      "_model_module_version": "1.5.0",
      "_model_name": "HTMLModel",
      "_view_count": null,
      "_view_module": "@jupyter-widgets/controls",
      "_view_module_version": "1.5.0",
      "_view_name": "HTMLView",
      "description": "",
      "description_tooltip": null,
      "layout": "IPY_MODEL_7d729f1f5600489ea5bbc84b111e4b19",
      "placeholder": "​",
      "style": "IPY_MODEL_f6eb4646c2d44ff6b49d02d84a40d1a6",
      "value": "pytorch_model.bin: 100%"
     }
    },
    "1d6632b747d64cc498278bb98e1d625e": {
     "model_module": "@jupyter-widgets/controls",
     "model_module_version": "1.5.0",
     "model_name": "FloatProgressModel",
     "state": {
      "_dom_classes": [],
      "_model_module": "@jupyter-widgets/controls",
      "_model_module_version": "1.5.0",
      "_model_name": "FloatProgressModel",
      "_view_count": null,
      "_view_module": "@jupyter-widgets/controls",
      "_view_module_version": "1.5.0",
      "_view_name": "ProgressView",
      "bar_style": "success",
      "description": "",
      "description_tooltip": null,
      "layout": "IPY_MODEL_242f172d69854d9a990ad900f6e3f972",
      "max": 456318,
      "min": 0,
      "orientation": "horizontal",
      "style": "IPY_MODEL_a4a44173de9d4dcc9070e2ef693fc3e9",
      "value": 456318
     }
    },
    "242f172d69854d9a990ad900f6e3f972": {
     "model_module": "@jupyter-widgets/base",
     "model_module_version": "1.2.0",
     "model_name": "LayoutModel",
     "state": {
      "_model_module": "@jupyter-widgets/base",
      "_model_module_version": "1.2.0",
      "_model_name": "LayoutModel",
      "_view_count": null,
      "_view_module": "@jupyter-widgets/base",
      "_view_module_version": "1.2.0",
      "_view_name": "LayoutView",
      "align_content": null,
      "align_items": null,
      "align_self": null,
      "border": null,
      "bottom": null,
      "display": null,
      "flex": null,
      "flex_flow": null,
      "grid_area": null,
      "grid_auto_columns": null,
      "grid_auto_flow": null,
      "grid_auto_rows": null,
      "grid_column": null,
      "grid_gap": null,
      "grid_row": null,
      "grid_template_areas": null,
      "grid_template_columns": null,
      "grid_template_rows": null,
      "height": null,
      "justify_content": null,
      "justify_items": null,
      "left": null,
      "margin": null,
      "max_height": null,
      "max_width": null,
      "min_height": null,
      "min_width": null,
      "object_fit": null,
      "object_position": null,
      "order": null,
      "overflow": null,
      "overflow_x": null,
      "overflow_y": null,
      "padding": null,
      "right": null,
      "top": null,
      "visibility": null,
      "width": null
     }
    },
    "2b2dd4249f3746738c8cf9f7de3780af": {
     "model_module": "@jupyter-widgets/controls",
     "model_module_version": "1.5.0",
     "model_name": "HTMLModel",
     "state": {
      "_dom_classes": [],
      "_model_module": "@jupyter-widgets/controls",
      "_model_module_version": "1.5.0",
      "_model_name": "HTMLModel",
      "_view_count": null,
      "_view_module": "@jupyter-widgets/controls",
      "_view_module_version": "1.5.0",
      "_view_name": "HTMLView",
      "description": "",
      "description_tooltip": null,
      "layout": "IPY_MODEL_049931d96c404b51a94075c74187e6d9",
      "placeholder": "​",
      "style": "IPY_MODEL_e179aaefd9564401948b9aafb950f8d6",
      "value": "config.json: 100%"
     }
    },
    "2cfd721d9290446093041ae70c51d5d7": {
     "model_module": "@jupyter-widgets/controls",
     "model_module_version": "1.5.0",
     "model_name": "DescriptionStyleModel",
     "state": {
      "_model_module": "@jupyter-widgets/controls",
      "_model_module_version": "1.5.0",
      "_model_name": "DescriptionStyleModel",
      "_view_count": null,
      "_view_module": "@jupyter-widgets/base",
      "_view_module_version": "1.2.0",
      "_view_name": "StyleView",
      "description_width": ""
     }
    },
    "2e051a700d8349e081a6cc5a2f3a1d28": {
     "model_module": "@jupyter-widgets/controls",
     "model_module_version": "1.5.0",
     "model_name": "HTMLModel",
     "state": {
      "_dom_classes": [],
      "_model_module": "@jupyter-widgets/controls",
      "_model_module_version": "1.5.0",
      "_model_name": "HTMLModel",
      "_view_count": null,
      "_view_module": "@jupyter-widgets/controls",
      "_view_module_version": "1.5.0",
      "_view_name": "HTMLView",
      "description": "",
      "description_tooltip": null,
      "layout": "IPY_MODEL_0eaa605aae8d482bbf6e7ad8d89adaa1",
      "placeholder": "​",
      "style": "IPY_MODEL_a3b42588e9424dae987de271f3ba94d8",
      "value": "merges.txt: 100%"
     }
    },
    "3913073c790c4afd8541dca331ddcd51": {
     "model_module": "@jupyter-widgets/controls",
     "model_module_version": "1.5.0",
     "model_name": "HTMLModel",
     "state": {
      "_dom_classes": [],
      "_model_module": "@jupyter-widgets/controls",
      "_model_module_version": "1.5.0",
      "_model_name": "HTMLModel",
      "_view_count": null,
      "_view_module": "@jupyter-widgets/controls",
      "_view_module_version": "1.5.0",
      "_view_name": "HTMLView",
      "description": "",
      "description_tooltip": null,
      "layout": "IPY_MODEL_be42ff7aeb804b65bface32668684e7c",
      "placeholder": "​",
      "style": "IPY_MODEL_2cfd721d9290446093041ae70c51d5d7",
      "value": " 456k/456k [00:00&lt;00:00, 3.47MB/s]"
     }
    },
    "42cb2d126f634c5189d8a04dab87b3dd": {
     "model_module": "@jupyter-widgets/base",
     "model_module_version": "1.2.0",
     "model_name": "LayoutModel",
     "state": {
      "_model_module": "@jupyter-widgets/base",
      "_model_module_version": "1.2.0",
      "_model_name": "LayoutModel",
      "_view_count": null,
      "_view_module": "@jupyter-widgets/base",
      "_view_module_version": "1.2.0",
      "_view_name": "LayoutView",
      "align_content": null,
      "align_items": null,
      "align_self": null,
      "border": null,
      "bottom": null,
      "display": null,
      "flex": null,
      "flex_flow": null,
      "grid_area": null,
      "grid_auto_columns": null,
      "grid_auto_flow": null,
      "grid_auto_rows": null,
      "grid_column": null,
      "grid_gap": null,
      "grid_row": null,
      "grid_template_areas": null,
      "grid_template_columns": null,
      "grid_template_rows": null,
      "height": null,
      "justify_content": null,
      "justify_items": null,
      "left": null,
      "margin": null,
      "max_height": null,
      "max_width": null,
      "min_height": null,
      "min_width": null,
      "object_fit": null,
      "object_position": null,
      "order": null,
      "overflow": null,
      "overflow_x": null,
      "overflow_y": null,
      "padding": null,
      "right": null,
      "top": null,
      "visibility": null,
      "width": null
     }
    },
    "43014d3b169440658a0a3d832baaef8d": {
     "model_module": "@jupyter-widgets/controls",
     "model_module_version": "1.5.0",
     "model_name": "HBoxModel",
     "state": {
      "_dom_classes": [],
      "_model_module": "@jupyter-widgets/controls",
      "_model_module_version": "1.5.0",
      "_model_name": "HBoxModel",
      "_view_count": null,
      "_view_module": "@jupyter-widgets/controls",
      "_view_module_version": "1.5.0",
      "_view_name": "HBoxView",
      "box_style": "",
      "children": [
       "IPY_MODEL_c4b35f0211884ffa8957ce4182befc80",
       "IPY_MODEL_d89749d6248e4eec875debad7b198e00",
       "IPY_MODEL_84cb9451cf2a4bbb9d6c49141d0ebfa0"
      ],
      "layout": "IPY_MODEL_12a098561c864b269c7af39e93c435ae"
     }
    },
    "4a91d895ab604c97989420bf44b68f75": {
     "model_module": "@jupyter-widgets/base",
     "model_module_version": "1.2.0",
     "model_name": "LayoutModel",
     "state": {
      "_model_module": "@jupyter-widgets/base",
      "_model_module_version": "1.2.0",
      "_model_name": "LayoutModel",
      "_view_count": null,
      "_view_module": "@jupyter-widgets/base",
      "_view_module_version": "1.2.0",
      "_view_name": "LayoutView",
      "align_content": null,
      "align_items": null,
      "align_self": null,
      "border": null,
      "bottom": null,
      "display": null,
      "flex": null,
      "flex_flow": null,
      "grid_area": null,
      "grid_auto_columns": null,
      "grid_auto_flow": null,
      "grid_auto_rows": null,
      "grid_column": null,
      "grid_gap": null,
      "grid_row": null,
      "grid_template_areas": null,
      "grid_template_columns": null,
      "grid_template_rows": null,
      "height": null,
      "justify_content": null,
      "justify_items": null,
      "left": null,
      "margin": null,
      "max_height": null,
      "max_width": null,
      "min_height": null,
      "min_width": null,
      "object_fit": null,
      "object_position": null,
      "order": null,
      "overflow": null,
      "overflow_x": null,
      "overflow_y": null,
      "padding": null,
      "right": null,
      "top": null,
      "visibility": null,
      "width": null
     }
    },
    "4ecee5e54923420e97f9f7656fefa658": {
     "model_module": "@jupyter-widgets/base",
     "model_module_version": "1.2.0",
     "model_name": "LayoutModel",
     "state": {
      "_model_module": "@jupyter-widgets/base",
      "_model_module_version": "1.2.0",
      "_model_name": "LayoutModel",
      "_view_count": null,
      "_view_module": "@jupyter-widgets/base",
      "_view_module_version": "1.2.0",
      "_view_name": "LayoutView",
      "align_content": null,
      "align_items": null,
      "align_self": null,
      "border": null,
      "bottom": null,
      "display": null,
      "flex": null,
      "flex_flow": null,
      "grid_area": null,
      "grid_auto_columns": null,
      "grid_auto_flow": null,
      "grid_auto_rows": null,
      "grid_column": null,
      "grid_gap": null,
      "grid_row": null,
      "grid_template_areas": null,
      "grid_template_columns": null,
      "grid_template_rows": null,
      "height": null,
      "justify_content": null,
      "justify_items": null,
      "left": null,
      "margin": null,
      "max_height": null,
      "max_width": null,
      "min_height": null,
      "min_width": null,
      "object_fit": null,
      "object_position": null,
      "order": null,
      "overflow": null,
      "overflow_x": null,
      "overflow_y": null,
      "padding": null,
      "right": null,
      "top": null,
      "visibility": null,
      "width": null
     }
    },
    "50d02953e2584d65938038ccda748f84": {
     "model_module": "@jupyter-widgets/controls",
     "model_module_version": "1.5.0",
     "model_name": "HTMLModel",
     "state": {
      "_dom_classes": [],
      "_model_module": "@jupyter-widgets/controls",
      "_model_module_version": "1.5.0",
      "_model_name": "HTMLModel",
      "_view_count": null,
      "_view_module": "@jupyter-widgets/controls",
      "_view_module_version": "1.5.0",
      "_view_name": "HTMLView",
      "description": "",
      "description_tooltip": null,
      "layout": "IPY_MODEL_586634c2c0614737b7a2bef5314a5986",
      "placeholder": "​",
      "style": "IPY_MODEL_f37131cc30c14e0e82980a8ec138b5dc",
      "value": " 694/694 [00:00&lt;00:00, 42.3kB/s]"
     }
    },
    "5234bc10166b4dfeb7a566543cbfbe1c": {
     "model_module": "@jupyter-widgets/base",
     "model_module_version": "1.2.0",
     "model_name": "LayoutModel",
     "state": {
      "_model_module": "@jupyter-widgets/base",
      "_model_module_version": "1.2.0",
      "_model_name": "LayoutModel",
      "_view_count": null,
      "_view_module": "@jupyter-widgets/base",
      "_view_module_version": "1.2.0",
      "_view_name": "LayoutView",
      "align_content": null,
      "align_items": null,
      "align_self": null,
      "border": null,
      "bottom": null,
      "display": null,
      "flex": null,
      "flex_flow": null,
      "grid_area": null,
      "grid_auto_columns": null,
      "grid_auto_flow": null,
      "grid_auto_rows": null,
      "grid_column": null,
      "grid_gap": null,
      "grid_row": null,
      "grid_template_areas": null,
      "grid_template_columns": null,
      "grid_template_rows": null,
      "height": null,
      "justify_content": null,
      "justify_items": null,
      "left": null,
      "margin": null,
      "max_height": null,
      "max_width": null,
      "min_height": null,
      "min_width": null,
      "object_fit": null,
      "object_position": null,
      "order": null,
      "overflow": null,
      "overflow_x": null,
      "overflow_y": null,
      "padding": null,
      "right": null,
      "top": null,
      "visibility": null,
      "width": null
     }
    },
    "558dc27f6ce54492bdeabd11ded61909": {
     "model_module": "@jupyter-widgets/base",
     "model_module_version": "1.2.0",
     "model_name": "LayoutModel",
     "state": {
      "_model_module": "@jupyter-widgets/base",
      "_model_module_version": "1.2.0",
      "_model_name": "LayoutModel",
      "_view_count": null,
      "_view_module": "@jupyter-widgets/base",
      "_view_module_version": "1.2.0",
      "_view_name": "LayoutView",
      "align_content": null,
      "align_items": null,
      "align_self": null,
      "border": null,
      "bottom": null,
      "display": null,
      "flex": null,
      "flex_flow": null,
      "grid_area": null,
      "grid_auto_columns": null,
      "grid_auto_flow": null,
      "grid_auto_rows": null,
      "grid_column": null,
      "grid_gap": null,
      "grid_row": null,
      "grid_template_areas": null,
      "grid_template_columns": null,
      "grid_template_rows": null,
      "height": null,
      "justify_content": null,
      "justify_items": null,
      "left": null,
      "margin": null,
      "max_height": null,
      "max_width": null,
      "min_height": null,
      "min_width": null,
      "object_fit": null,
      "object_position": null,
      "order": null,
      "overflow": null,
      "overflow_x": null,
      "overflow_y": null,
      "padding": null,
      "right": null,
      "top": null,
      "visibility": null,
      "width": null
     }
    },
    "586634c2c0614737b7a2bef5314a5986": {
     "model_module": "@jupyter-widgets/base",
     "model_module_version": "1.2.0",
     "model_name": "LayoutModel",
     "state": {
      "_model_module": "@jupyter-widgets/base",
      "_model_module_version": "1.2.0",
      "_model_name": "LayoutModel",
      "_view_count": null,
      "_view_module": "@jupyter-widgets/base",
      "_view_module_version": "1.2.0",
      "_view_name": "LayoutView",
      "align_content": null,
      "align_items": null,
      "align_self": null,
      "border": null,
      "bottom": null,
      "display": null,
      "flex": null,
      "flex_flow": null,
      "grid_area": null,
      "grid_auto_columns": null,
      "grid_auto_flow": null,
      "grid_auto_rows": null,
      "grid_column": null,
      "grid_gap": null,
      "grid_row": null,
      "grid_template_areas": null,
      "grid_template_columns": null,
      "grid_template_rows": null,
      "height": null,
      "justify_content": null,
      "justify_items": null,
      "left": null,
      "margin": null,
      "max_height": null,
      "max_width": null,
      "min_height": null,
      "min_width": null,
      "object_fit": null,
      "object_position": null,
      "order": null,
      "overflow": null,
      "overflow_x": null,
      "overflow_y": null,
      "padding": null,
      "right": null,
      "top": null,
      "visibility": null,
      "width": null
     }
    },
    "5d48fcf4044c4897a1e15d3b7e9a2b37": {
     "model_module": "@jupyter-widgets/controls",
     "model_module_version": "1.5.0",
     "model_name": "DescriptionStyleModel",
     "state": {
      "_model_module": "@jupyter-widgets/controls",
      "_model_module_version": "1.5.0",
      "_model_name": "DescriptionStyleModel",
      "_view_count": null,
      "_view_module": "@jupyter-widgets/base",
      "_view_module_version": "1.2.0",
      "_view_name": "StyleView",
      "description_width": ""
     }
    },
    "6cccffe0dbe2477f813c6f5937d35069": {
     "model_module": "@jupyter-widgets/base",
     "model_module_version": "1.2.0",
     "model_name": "LayoutModel",
     "state": {
      "_model_module": "@jupyter-widgets/base",
      "_model_module_version": "1.2.0",
      "_model_name": "LayoutModel",
      "_view_count": null,
      "_view_module": "@jupyter-widgets/base",
      "_view_module_version": "1.2.0",
      "_view_name": "LayoutView",
      "align_content": null,
      "align_items": null,
      "align_self": null,
      "border": null,
      "bottom": null,
      "display": null,
      "flex": null,
      "flex_flow": null,
      "grid_area": null,
      "grid_auto_columns": null,
      "grid_auto_flow": null,
      "grid_auto_rows": null,
      "grid_column": null,
      "grid_gap": null,
      "grid_row": null,
      "grid_template_areas": null,
      "grid_template_columns": null,
      "grid_template_rows": null,
      "height": null,
      "justify_content": null,
      "justify_items": null,
      "left": null,
      "margin": null,
      "max_height": null,
      "max_width": null,
      "min_height": null,
      "min_width": null,
      "object_fit": null,
      "object_position": null,
      "order": null,
      "overflow": null,
      "overflow_x": null,
      "overflow_y": null,
      "padding": null,
      "right": null,
      "top": null,
      "visibility": null,
      "width": null
     }
    },
    "6ebae213de5044de9a06381f049f8416": {
     "model_module": "@jupyter-widgets/controls",
     "model_module_version": "1.5.0",
     "model_name": "HTMLModel",
     "state": {
      "_dom_classes": [],
      "_model_module": "@jupyter-widgets/controls",
      "_model_module_version": "1.5.0",
      "_model_name": "HTMLModel",
      "_view_count": null,
      "_view_module": "@jupyter-widgets/controls",
      "_view_module_version": "1.5.0",
      "_view_name": "HTMLView",
      "description": "",
      "description_tooltip": null,
      "layout": "IPY_MODEL_a2a389899c4643f99e41bf35c69f842c",
      "placeholder": "​",
      "style": "IPY_MODEL_5d48fcf4044c4897a1e15d3b7e9a2b37",
      "value": "vocab.json: 100%"
     }
    },
    "701af45fb97f42bd96b3e1930104f806": {
     "model_module": "@jupyter-widgets/controls",
     "model_module_version": "1.5.0",
     "model_name": "HBoxModel",
     "state": {
      "_dom_classes": [],
      "_model_module": "@jupyter-widgets/controls",
      "_model_module_version": "1.5.0",
      "_model_name": "HBoxModel",
      "_view_count": null,
      "_view_module": "@jupyter-widgets/controls",
      "_view_module_version": "1.5.0",
      "_view_name": "HBoxView",
      "box_style": "",
      "children": [
       "IPY_MODEL_2b2dd4249f3746738c8cf9f7de3780af",
       "IPY_MODEL_b4d932bec694446e9f351b615315c1a7",
       "IPY_MODEL_50d02953e2584d65938038ccda748f84"
      ],
      "layout": "IPY_MODEL_5234bc10166b4dfeb7a566543cbfbe1c"
     }
    },
    "7426384e026344ceb059b5563ddc2e8b": {
     "model_module": "@jupyter-widgets/controls",
     "model_module_version": "1.5.0",
     "model_name": "DescriptionStyleModel",
     "state": {
      "_model_module": "@jupyter-widgets/controls",
      "_model_module_version": "1.5.0",
      "_model_name": "DescriptionStyleModel",
      "_view_count": null,
      "_view_module": "@jupyter-widgets/base",
      "_view_module_version": "1.2.0",
      "_view_name": "StyleView",
      "description_width": ""
     }
    },
    "7b0f1a8c5d88499c90fdce6c1dafdb93": {
     "model_module": "@jupyter-widgets/base",
     "model_module_version": "1.2.0",
     "model_name": "LayoutModel",
     "state": {
      "_model_module": "@jupyter-widgets/base",
      "_model_module_version": "1.2.0",
      "_model_name": "LayoutModel",
      "_view_count": null,
      "_view_module": "@jupyter-widgets/base",
      "_view_module_version": "1.2.0",
      "_view_name": "LayoutView",
      "align_content": null,
      "align_items": null,
      "align_self": null,
      "border": null,
      "bottom": null,
      "display": null,
      "flex": null,
      "flex_flow": null,
      "grid_area": null,
      "grid_auto_columns": null,
      "grid_auto_flow": null,
      "grid_auto_rows": null,
      "grid_column": null,
      "grid_gap": null,
      "grid_row": null,
      "grid_template_areas": null,
      "grid_template_columns": null,
      "grid_template_rows": null,
      "height": null,
      "justify_content": null,
      "justify_items": null,
      "left": null,
      "margin": null,
      "max_height": null,
      "max_width": null,
      "min_height": null,
      "min_width": null,
      "object_fit": null,
      "object_position": null,
      "order": null,
      "overflow": null,
      "overflow_x": null,
      "overflow_y": null,
      "padding": null,
      "right": null,
      "top": null,
      "visibility": null,
      "width": null
     }
    },
    "7c66ca5eec234d8f810a2120f8b44c7b": {
     "model_module": "@jupyter-widgets/base",
     "model_module_version": "1.2.0",
     "model_name": "LayoutModel",
     "state": {
      "_model_module": "@jupyter-widgets/base",
      "_model_module_version": "1.2.0",
      "_model_name": "LayoutModel",
      "_view_count": null,
      "_view_module": "@jupyter-widgets/base",
      "_view_module_version": "1.2.0",
      "_view_name": "LayoutView",
      "align_content": null,
      "align_items": null,
      "align_self": null,
      "border": null,
      "bottom": null,
      "display": null,
      "flex": null,
      "flex_flow": null,
      "grid_area": null,
      "grid_auto_columns": null,
      "grid_auto_flow": null,
      "grid_auto_rows": null,
      "grid_column": null,
      "grid_gap": null,
      "grid_row": null,
      "grid_template_areas": null,
      "grid_template_columns": null,
      "grid_template_rows": null,
      "height": null,
      "justify_content": null,
      "justify_items": null,
      "left": null,
      "margin": null,
      "max_height": null,
      "max_width": null,
      "min_height": null,
      "min_width": null,
      "object_fit": null,
      "object_position": null,
      "order": null,
      "overflow": null,
      "overflow_x": null,
      "overflow_y": null,
      "padding": null,
      "right": null,
      "top": null,
      "visibility": null,
      "width": null
     }
    },
    "7d729f1f5600489ea5bbc84b111e4b19": {
     "model_module": "@jupyter-widgets/base",
     "model_module_version": "1.2.0",
     "model_name": "LayoutModel",
     "state": {
      "_model_module": "@jupyter-widgets/base",
      "_model_module_version": "1.2.0",
      "_model_name": "LayoutModel",
      "_view_count": null,
      "_view_module": "@jupyter-widgets/base",
      "_view_module_version": "1.2.0",
      "_view_name": "LayoutView",
      "align_content": null,
      "align_items": null,
      "align_self": null,
      "border": null,
      "bottom": null,
      "display": null,
      "flex": null,
      "flex_flow": null,
      "grid_area": null,
      "grid_auto_columns": null,
      "grid_auto_flow": null,
      "grid_auto_rows": null,
      "grid_column": null,
      "grid_gap": null,
      "grid_row": null,
      "grid_template_areas": null,
      "grid_template_columns": null,
      "grid_template_rows": null,
      "height": null,
      "justify_content": null,
      "justify_items": null,
      "left": null,
      "margin": null,
      "max_height": null,
      "max_width": null,
      "min_height": null,
      "min_width": null,
      "object_fit": null,
      "object_position": null,
      "order": null,
      "overflow": null,
      "overflow_x": null,
      "overflow_y": null,
      "padding": null,
      "right": null,
      "top": null,
      "visibility": null,
      "width": null
     }
    },
    "7fa6a925e1fd4b0383a46fabe15fb18b": {
     "model_module": "@jupyter-widgets/controls",
     "model_module_version": "1.5.0",
     "model_name": "DescriptionStyleModel",
     "state": {
      "_model_module": "@jupyter-widgets/controls",
      "_model_module_version": "1.5.0",
      "_model_name": "DescriptionStyleModel",
      "_view_count": null,
      "_view_module": "@jupyter-widgets/base",
      "_view_module_version": "1.2.0",
      "_view_name": "StyleView",
      "description_width": ""
     }
    },
    "84cb9451cf2a4bbb9d6c49141d0ebfa0": {
     "model_module": "@jupyter-widgets/controls",
     "model_module_version": "1.5.0",
     "model_name": "HTMLModel",
     "state": {
      "_dom_classes": [],
      "_model_module": "@jupyter-widgets/controls",
      "_model_module_version": "1.5.0",
      "_model_name": "HTMLModel",
      "_view_count": null,
      "_view_module": "@jupyter-widgets/controls",
      "_view_module_version": "1.5.0",
      "_view_name": "HTMLView",
      "description": "",
      "description_tooltip": null,
      "layout": "IPY_MODEL_7c66ca5eec234d8f810a2120f8b44c7b",
      "placeholder": "​",
      "style": "IPY_MODEL_7426384e026344ceb059b5563ddc2e8b",
      "value": " 1.36M/1.36M [00:00&lt;00:00, 5.22MB/s]"
     }
    },
    "90ff13460dfd4abcbfc5d9b4b85d78b5": {
     "model_module": "@jupyter-widgets/controls",
     "model_module_version": "1.5.0",
     "model_name": "FloatProgressModel",
     "state": {
      "_dom_classes": [],
      "_model_module": "@jupyter-widgets/controls",
      "_model_module_version": "1.5.0",
      "_model_name": "FloatProgressModel",
      "_view_count": null,
      "_view_module": "@jupyter-widgets/controls",
      "_view_module_version": "1.5.0",
      "_view_name": "ProgressView",
      "bar_style": "success",
      "description": "",
      "description_tooltip": null,
      "layout": "IPY_MODEL_6cccffe0dbe2477f813c6f5937d35069",
      "max": 597257159,
      "min": 0,
      "orientation": "horizontal",
      "style": "IPY_MODEL_bc56c300fbe7477293d3fa7a96441d12",
      "value": 597257159
     }
    },
    "927332e703aa47ed9c05d61a6cf0e36f": {
     "model_module": "@jupyter-widgets/base",
     "model_module_version": "1.2.0",
     "model_name": "LayoutModel",
     "state": {
      "_model_module": "@jupyter-widgets/base",
      "_model_module_version": "1.2.0",
      "_model_name": "LayoutModel",
      "_view_count": null,
      "_view_module": "@jupyter-widgets/base",
      "_view_module_version": "1.2.0",
      "_view_name": "LayoutView",
      "align_content": null,
      "align_items": null,
      "align_self": null,
      "border": null,
      "bottom": null,
      "display": null,
      "flex": null,
      "flex_flow": null,
      "grid_area": null,
      "grid_auto_columns": null,
      "grid_auto_flow": null,
      "grid_auto_rows": null,
      "grid_column": null,
      "grid_gap": null,
      "grid_row": null,
      "grid_template_areas": null,
      "grid_template_columns": null,
      "grid_template_rows": null,
      "height": null,
      "justify_content": null,
      "justify_items": null,
      "left": null,
      "margin": null,
      "max_height": null,
      "max_width": null,
      "min_height": null,
      "min_width": null,
      "object_fit": null,
      "object_position": null,
      "order": null,
      "overflow": null,
      "overflow_x": null,
      "overflow_y": null,
      "padding": null,
      "right": null,
      "top": null,
      "visibility": null,
      "width": null
     }
    },
    "a2a389899c4643f99e41bf35c69f842c": {
     "model_module": "@jupyter-widgets/base",
     "model_module_version": "1.2.0",
     "model_name": "LayoutModel",
     "state": {
      "_model_module": "@jupyter-widgets/base",
      "_model_module_version": "1.2.0",
      "_model_name": "LayoutModel",
      "_view_count": null,
      "_view_module": "@jupyter-widgets/base",
      "_view_module_version": "1.2.0",
      "_view_name": "LayoutView",
      "align_content": null,
      "align_items": null,
      "align_self": null,
      "border": null,
      "bottom": null,
      "display": null,
      "flex": null,
      "flex_flow": null,
      "grid_area": null,
      "grid_auto_columns": null,
      "grid_auto_flow": null,
      "grid_auto_rows": null,
      "grid_column": null,
      "grid_gap": null,
      "grid_row": null,
      "grid_template_areas": null,
      "grid_template_columns": null,
      "grid_template_rows": null,
      "height": null,
      "justify_content": null,
      "justify_items": null,
      "left": null,
      "margin": null,
      "max_height": null,
      "max_width": null,
      "min_height": null,
      "min_width": null,
      "object_fit": null,
      "object_position": null,
      "order": null,
      "overflow": null,
      "overflow_x": null,
      "overflow_y": null,
      "padding": null,
      "right": null,
      "top": null,
      "visibility": null,
      "width": null
     }
    },
    "a3b42588e9424dae987de271f3ba94d8": {
     "model_module": "@jupyter-widgets/controls",
     "model_module_version": "1.5.0",
     "model_name": "DescriptionStyleModel",
     "state": {
      "_model_module": "@jupyter-widgets/controls",
      "_model_module_version": "1.5.0",
      "_model_name": "DescriptionStyleModel",
      "_view_count": null,
      "_view_module": "@jupyter-widgets/base",
      "_view_module_version": "1.2.0",
      "_view_name": "StyleView",
      "description_width": ""
     }
    },
    "a4a44173de9d4dcc9070e2ef693fc3e9": {
     "model_module": "@jupyter-widgets/controls",
     "model_module_version": "1.5.0",
     "model_name": "ProgressStyleModel",
     "state": {
      "_model_module": "@jupyter-widgets/controls",
      "_model_module_version": "1.5.0",
      "_model_name": "ProgressStyleModel",
      "_view_count": null,
      "_view_module": "@jupyter-widgets/base",
      "_view_module_version": "1.2.0",
      "_view_name": "StyleView",
      "bar_color": null,
      "description_width": ""
     }
    },
    "a55affaacbea4ab18d5155213f5c127b": {
     "model_module": "@jupyter-widgets/controls",
     "model_module_version": "1.5.0",
     "model_name": "HBoxModel",
     "state": {
      "_dom_classes": [],
      "_model_module": "@jupyter-widgets/controls",
      "_model_module_version": "1.5.0",
      "_model_name": "HBoxModel",
      "_view_count": null,
      "_view_module": "@jupyter-widgets/controls",
      "_view_module_version": "1.5.0",
      "_view_name": "HBoxView",
      "box_style": "",
      "children": [
       "IPY_MODEL_1d4b6c2d9ddc4b6ca439d9481837c3e4",
       "IPY_MODEL_90ff13460dfd4abcbfc5d9b4b85d78b5",
       "IPY_MODEL_d1b9e863103a44f295ac64e67b9dee3d"
      ],
      "layout": "IPY_MODEL_b1be20027af04355b077cdb95730917c"
     }
    },
    "abd334cdaa504840aa9557a1634f99da": {
     "model_module": "@jupyter-widgets/controls",
     "model_module_version": "1.5.0",
     "model_name": "HBoxModel",
     "state": {
      "_dom_classes": [],
      "_model_module": "@jupyter-widgets/controls",
      "_model_module_version": "1.5.0",
      "_model_name": "HBoxModel",
      "_view_count": null,
      "_view_module": "@jupyter-widgets/controls",
      "_view_module_version": "1.5.0",
      "_view_name": "HBoxView",
      "box_style": "",
      "children": [
       "IPY_MODEL_6ebae213de5044de9a06381f049f8416",
       "IPY_MODEL_0c64b7fef3814b2d957ed38b8d13e23a",
       "IPY_MODEL_bbcb33efccb5446184a663319d31fefc"
      ],
      "layout": "IPY_MODEL_d91c2ac39ff241d68ec56a17ae7189c7"
     }
    },
    "b1be20027af04355b077cdb95730917c": {
     "model_module": "@jupyter-widgets/base",
     "model_module_version": "1.2.0",
     "model_name": "LayoutModel",
     "state": {
      "_model_module": "@jupyter-widgets/base",
      "_model_module_version": "1.2.0",
      "_model_name": "LayoutModel",
      "_view_count": null,
      "_view_module": "@jupyter-widgets/base",
      "_view_module_version": "1.2.0",
      "_view_name": "LayoutView",
      "align_content": null,
      "align_items": null,
      "align_self": null,
      "border": null,
      "bottom": null,
      "display": null,
      "flex": null,
      "flex_flow": null,
      "grid_area": null,
      "grid_auto_columns": null,
      "grid_auto_flow": null,
      "grid_auto_rows": null,
      "grid_column": null,
      "grid_gap": null,
      "grid_row": null,
      "grid_template_areas": null,
      "grid_template_columns": null,
      "grid_template_rows": null,
      "height": null,
      "justify_content": null,
      "justify_items": null,
      "left": null,
      "margin": null,
      "max_height": null,
      "max_width": null,
      "min_height": null,
      "min_width": null,
      "object_fit": null,
      "object_position": null,
      "order": null,
      "overflow": null,
      "overflow_x": null,
      "overflow_y": null,
      "padding": null,
      "right": null,
      "top": null,
      "visibility": null,
      "width": null
     }
    },
    "b4d932bec694446e9f351b615315c1a7": {
     "model_module": "@jupyter-widgets/controls",
     "model_module_version": "1.5.0",
     "model_name": "FloatProgressModel",
     "state": {
      "_dom_classes": [],
      "_model_module": "@jupyter-widgets/controls",
      "_model_module_version": "1.5.0",
      "_model_name": "FloatProgressModel",
      "_view_count": null,
      "_view_module": "@jupyter-widgets/controls",
      "_view_module_version": "1.5.0",
      "_view_name": "ProgressView",
      "bar_style": "success",
      "description": "",
      "description_tooltip": null,
      "layout": "IPY_MODEL_4a91d895ab604c97989420bf44b68f75",
      "max": 694,
      "min": 0,
      "orientation": "horizontal",
      "style": "IPY_MODEL_c995edd1bc1e49de92af8c5347cb2215",
      "value": 694
     }
    },
    "b96b69769edb415dbba263da3e389c61": {
     "model_module": "@jupyter-widgets/controls",
     "model_module_version": "1.5.0",
     "model_name": "DescriptionStyleModel",
     "state": {
      "_model_module": "@jupyter-widgets/controls",
      "_model_module_version": "1.5.0",
      "_model_name": "DescriptionStyleModel",
      "_view_count": null,
      "_view_module": "@jupyter-widgets/base",
      "_view_module_version": "1.2.0",
      "_view_name": "StyleView",
      "description_width": ""
     }
    },
    "bbcb33efccb5446184a663319d31fefc": {
     "model_module": "@jupyter-widgets/controls",
     "model_module_version": "1.5.0",
     "model_name": "HTMLModel",
     "state": {
      "_dom_classes": [],
      "_model_module": "@jupyter-widgets/controls",
      "_model_module_version": "1.5.0",
      "_model_name": "HTMLModel",
      "_view_count": null,
      "_view_module": "@jupyter-widgets/controls",
      "_view_module_version": "1.5.0",
      "_view_name": "HTMLView",
      "description": "",
      "description_tooltip": null,
      "layout": "IPY_MODEL_7b0f1a8c5d88499c90fdce6c1dafdb93",
      "placeholder": "​",
      "style": "IPY_MODEL_7fa6a925e1fd4b0383a46fabe15fb18b",
      "value": " 899k/899k [00:00&lt;00:00, 3.39MB/s]"
     }
    },
    "bc56c300fbe7477293d3fa7a96441d12": {
     "model_module": "@jupyter-widgets/controls",
     "model_module_version": "1.5.0",
     "model_name": "ProgressStyleModel",
     "state": {
      "_model_module": "@jupyter-widgets/controls",
      "_model_module_version": "1.5.0",
      "_model_name": "ProgressStyleModel",
      "_view_count": null,
      "_view_module": "@jupyter-widgets/base",
      "_view_module_version": "1.2.0",
      "_view_name": "StyleView",
      "bar_color": null,
      "description_width": ""
     }
    },
    "be42ff7aeb804b65bface32668684e7c": {
     "model_module": "@jupyter-widgets/base",
     "model_module_version": "1.2.0",
     "model_name": "LayoutModel",
     "state": {
      "_model_module": "@jupyter-widgets/base",
      "_model_module_version": "1.2.0",
      "_model_name": "LayoutModel",
      "_view_count": null,
      "_view_module": "@jupyter-widgets/base",
      "_view_module_version": "1.2.0",
      "_view_name": "LayoutView",
      "align_content": null,
      "align_items": null,
      "align_self": null,
      "border": null,
      "bottom": null,
      "display": null,
      "flex": null,
      "flex_flow": null,
      "grid_area": null,
      "grid_auto_columns": null,
      "grid_auto_flow": null,
      "grid_auto_rows": null,
      "grid_column": null,
      "grid_gap": null,
      "grid_row": null,
      "grid_template_areas": null,
      "grid_template_columns": null,
      "grid_template_rows": null,
      "height": null,
      "justify_content": null,
      "justify_items": null,
      "left": null,
      "margin": null,
      "max_height": null,
      "max_width": null,
      "min_height": null,
      "min_width": null,
      "object_fit": null,
      "object_position": null,
      "order": null,
      "overflow": null,
      "overflow_x": null,
      "overflow_y": null,
      "padding": null,
      "right": null,
      "top": null,
      "visibility": null,
      "width": null
     }
    },
    "c4b35f0211884ffa8957ce4182befc80": {
     "model_module": "@jupyter-widgets/controls",
     "model_module_version": "1.5.0",
     "model_name": "HTMLModel",
     "state": {
      "_dom_classes": [],
      "_model_module": "@jupyter-widgets/controls",
      "_model_module_version": "1.5.0",
      "_model_name": "HTMLModel",
      "_view_count": null,
      "_view_module": "@jupyter-widgets/controls",
      "_view_module_version": "1.5.0",
      "_view_name": "HTMLView",
      "description": "",
      "description_tooltip": null,
      "layout": "IPY_MODEL_558dc27f6ce54492bdeabd11ded61909",
      "placeholder": "​",
      "style": "IPY_MODEL_b96b69769edb415dbba263da3e389c61",
      "value": "tokenizer.json: 100%"
     }
    },
    "c995edd1bc1e49de92af8c5347cb2215": {
     "model_module": "@jupyter-widgets/controls",
     "model_module_version": "1.5.0",
     "model_name": "ProgressStyleModel",
     "state": {
      "_model_module": "@jupyter-widgets/controls",
      "_model_module_version": "1.5.0",
      "_model_name": "ProgressStyleModel",
      "_view_count": null,
      "_view_module": "@jupyter-widgets/base",
      "_view_module_version": "1.2.0",
      "_view_name": "StyleView",
      "bar_color": null,
      "description_width": ""
     }
    },
    "d1b9e863103a44f295ac64e67b9dee3d": {
     "model_module": "@jupyter-widgets/controls",
     "model_module_version": "1.5.0",
     "model_name": "HTMLModel",
     "state": {
      "_dom_classes": [],
      "_model_module": "@jupyter-widgets/controls",
      "_model_module_version": "1.5.0",
      "_model_name": "HTMLModel",
      "_view_count": null,
      "_view_module": "@jupyter-widgets/controls",
      "_view_module_version": "1.5.0",
      "_view_name": "HTMLView",
      "description": "",
      "description_tooltip": null,
      "layout": "IPY_MODEL_4ecee5e54923420e97f9f7656fefa658",
      "placeholder": "​",
      "style": "IPY_MODEL_0531dd9df75949d5bc94f764abd3303a",
      "value": " 597M/597M [00:02&lt;00:00, 247MB/s]"
     }
    },
    "d89749d6248e4eec875debad7b198e00": {
     "model_module": "@jupyter-widgets/controls",
     "model_module_version": "1.5.0",
     "model_name": "FloatProgressModel",
     "state": {
      "_dom_classes": [],
      "_model_module": "@jupyter-widgets/controls",
      "_model_module_version": "1.5.0",
      "_model_name": "FloatProgressModel",
      "_view_count": null,
      "_view_module": "@jupyter-widgets/controls",
      "_view_module_version": "1.5.0",
      "_view_name": "ProgressView",
      "bar_style": "success",
      "description": "",
      "description_tooltip": null,
      "layout": "IPY_MODEL_e25ed18dceef4ca59ae0c6ff4e60351c",
      "max": 1355863,
      "min": 0,
      "orientation": "horizontal",
      "style": "IPY_MODEL_fd664a3a2de2457bae0225817b079213",
      "value": 1355863
     }
    },
    "d91c2ac39ff241d68ec56a17ae7189c7": {
     "model_module": "@jupyter-widgets/base",
     "model_module_version": "1.2.0",
     "model_name": "LayoutModel",
     "state": {
      "_model_module": "@jupyter-widgets/base",
      "_model_module_version": "1.2.0",
      "_model_name": "LayoutModel",
      "_view_count": null,
      "_view_module": "@jupyter-widgets/base",
      "_view_module_version": "1.2.0",
      "_view_name": "LayoutView",
      "align_content": null,
      "align_items": null,
      "align_self": null,
      "border": null,
      "bottom": null,
      "display": null,
      "flex": null,
      "flex_flow": null,
      "grid_area": null,
      "grid_auto_columns": null,
      "grid_auto_flow": null,
      "grid_auto_rows": null,
      "grid_column": null,
      "grid_gap": null,
      "grid_row": null,
      "grid_template_areas": null,
      "grid_template_columns": null,
      "grid_template_rows": null,
      "height": null,
      "justify_content": null,
      "justify_items": null,
      "left": null,
      "margin": null,
      "max_height": null,
      "max_width": null,
      "min_height": null,
      "min_width": null,
      "object_fit": null,
      "object_position": null,
      "order": null,
      "overflow": null,
      "overflow_x": null,
      "overflow_y": null,
      "padding": null,
      "right": null,
      "top": null,
      "visibility": null,
      "width": null
     }
    },
    "da193ceef371454c94337c9ed425a0b0": {
     "model_module": "@jupyter-widgets/controls",
     "model_module_version": "1.5.0",
     "model_name": "ProgressStyleModel",
     "state": {
      "_model_module": "@jupyter-widgets/controls",
      "_model_module_version": "1.5.0",
      "_model_name": "ProgressStyleModel",
      "_view_count": null,
      "_view_module": "@jupyter-widgets/base",
      "_view_module_version": "1.2.0",
      "_view_name": "StyleView",
      "bar_color": null,
      "description_width": ""
     }
    },
    "e179aaefd9564401948b9aafb950f8d6": {
     "model_module": "@jupyter-widgets/controls",
     "model_module_version": "1.5.0",
     "model_name": "DescriptionStyleModel",
     "state": {
      "_model_module": "@jupyter-widgets/controls",
      "_model_module_version": "1.5.0",
      "_model_name": "DescriptionStyleModel",
      "_view_count": null,
      "_view_module": "@jupyter-widgets/base",
      "_view_module_version": "1.2.0",
      "_view_name": "StyleView",
      "description_width": ""
     }
    },
    "e25ed18dceef4ca59ae0c6ff4e60351c": {
     "model_module": "@jupyter-widgets/base",
     "model_module_version": "1.2.0",
     "model_name": "LayoutModel",
     "state": {
      "_model_module": "@jupyter-widgets/base",
      "_model_module_version": "1.2.0",
      "_model_name": "LayoutModel",
      "_view_count": null,
      "_view_module": "@jupyter-widgets/base",
      "_view_module_version": "1.2.0",
      "_view_name": "LayoutView",
      "align_content": null,
      "align_items": null,
      "align_self": null,
      "border": null,
      "bottom": null,
      "display": null,
      "flex": null,
      "flex_flow": null,
      "grid_area": null,
      "grid_auto_columns": null,
      "grid_auto_flow": null,
      "grid_auto_rows": null,
      "grid_column": null,
      "grid_gap": null,
      "grid_row": null,
      "grid_template_areas": null,
      "grid_template_columns": null,
      "grid_template_rows": null,
      "height": null,
      "justify_content": null,
      "justify_items": null,
      "left": null,
      "margin": null,
      "max_height": null,
      "max_width": null,
      "min_height": null,
      "min_width": null,
      "object_fit": null,
      "object_position": null,
      "order": null,
      "overflow": null,
      "overflow_x": null,
      "overflow_y": null,
      "padding": null,
      "right": null,
      "top": null,
      "visibility": null,
      "width": null
     }
    },
    "ec8b4c0255f048f685e8c74c3a846565": {
     "model_module": "@jupyter-widgets/controls",
     "model_module_version": "1.5.0",
     "model_name": "HBoxModel",
     "state": {
      "_dom_classes": [],
      "_model_module": "@jupyter-widgets/controls",
      "_model_module_version": "1.5.0",
      "_model_name": "HBoxModel",
      "_view_count": null,
      "_view_module": "@jupyter-widgets/controls",
      "_view_module_version": "1.5.0",
      "_view_name": "HBoxView",
      "box_style": "",
      "children": [
       "IPY_MODEL_2e051a700d8349e081a6cc5a2f3a1d28",
       "IPY_MODEL_1d6632b747d64cc498278bb98e1d625e",
       "IPY_MODEL_3913073c790c4afd8541dca331ddcd51"
      ],
      "layout": "IPY_MODEL_927332e703aa47ed9c05d61a6cf0e36f"
     }
    },
    "f37131cc30c14e0e82980a8ec138b5dc": {
     "model_module": "@jupyter-widgets/controls",
     "model_module_version": "1.5.0",
     "model_name": "DescriptionStyleModel",
     "state": {
      "_model_module": "@jupyter-widgets/controls",
      "_model_module_version": "1.5.0",
      "_model_name": "DescriptionStyleModel",
      "_view_count": null,
      "_view_module": "@jupyter-widgets/base",
      "_view_module_version": "1.2.0",
      "_view_name": "StyleView",
      "description_width": ""
     }
    },
    "f6eb4646c2d44ff6b49d02d84a40d1a6": {
     "model_module": "@jupyter-widgets/controls",
     "model_module_version": "1.5.0",
     "model_name": "DescriptionStyleModel",
     "state": {
      "_model_module": "@jupyter-widgets/controls",
      "_model_module_version": "1.5.0",
      "_model_name": "DescriptionStyleModel",
      "_view_count": null,
      "_view_module": "@jupyter-widgets/base",
      "_view_module_version": "1.2.0",
      "_view_name": "StyleView",
      "description_width": ""
     }
    },
    "fd664a3a2de2457bae0225817b079213": {
     "model_module": "@jupyter-widgets/controls",
     "model_module_version": "1.5.0",
     "model_name": "ProgressStyleModel",
     "state": {
      "_model_module": "@jupyter-widgets/controls",
      "_model_module_version": "1.5.0",
      "_model_name": "ProgressStyleModel",
      "_view_count": null,
      "_view_module": "@jupyter-widgets/base",
      "_view_module_version": "1.2.0",
      "_view_name": "StyleView",
      "bar_color": null,
      "description_width": ""
     }
    }
   }
  }
 },
 "nbformat": 4,
 "nbformat_minor": 4
}
